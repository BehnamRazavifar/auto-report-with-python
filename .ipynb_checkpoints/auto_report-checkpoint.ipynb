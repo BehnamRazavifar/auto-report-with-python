{
 "cells": [
  {
   "cell_type": "code",
   "execution_count": 1,
   "id": "8fa52381",
   "metadata": {},
   "outputs": [],
   "source": [
    "# !pip install python-docx"
   ]
  },
  {
   "cell_type": "code",
   "execution_count": 2,
   "id": "ac8af404",
   "metadata": {},
   "outputs": [],
   "source": [
    "# !pip install docxtpl"
   ]
  },
  {
   "cell_type": "code",
   "execution_count": null,
   "id": "8fe65a5a",
   "metadata": {},
   "outputs": [],
   "source": []
  },
  {
   "cell_type": "markdown",
   "id": "116a3a14",
   "metadata": {},
   "source": [
    "# input docx"
   ]
  },
  {
   "cell_type": "code",
   "execution_count": 3,
   "id": "f311f545",
   "metadata": {},
   "outputs": [
    {
     "data": {
      "text/plain": [
       "<docx.document.Document at 0x7f491c459580>"
      ]
     },
     "execution_count": 3,
     "metadata": {},
     "output_type": "execute_result"
    }
   ],
   "source": [
    "from docx import Document\n",
    "\n",
    "doc = Document(\"input.docx\")\n",
    "\n",
    "doc"
   ]
  },
  {
   "cell_type": "markdown",
   "id": "a9e1e57e",
   "metadata": {},
   "source": [
    "# All Tables"
   ]
  },
  {
   "cell_type": "code",
   "execution_count": 4,
   "id": "449ea072",
   "metadata": {},
   "outputs": [
    {
     "name": "stdout",
     "output_type": "stream",
     "text": [
      "table number      col   row\n",
      "     0             6     4\n",
      "\n",
      "number   ||   Lorem ipsum   ||   Lorem ipsum   ||   Lorem ipsum   ||   \n",
      "1   ||   In eleifend velit vitae libero sollicitudin euismod.   ||   Lorem   ||      ||   \n",
      "2   ||   Cras fringilla ipsum magna, in fringilla dui commodo a.   ||   Ipsum   ||      ||   \n",
      "3   ||   Aliquam erat volutpat.    ||   Lorem   ||      ||   \n",
      "4   ||   Fusce vitae vestibulum velit.    ||   Lorem   ||      ||   \n",
      "5   ||   Etiam vehicula luctus fermentum.   ||   Ipsum   ||      ||   \n",
      "\n",
      "============================================================================================================\n",
      "table number      col   row\n",
      "     1             6     2\n",
      "\n",
      "number   ||   cost   ||   \n",
      "1   ||   154.2   ||   \n",
      "2   ||   578.1   ||   \n",
      "3   ||   541.6   ||   \n",
      "4   ||   21.2   ||   \n",
      "5   ||   41.3   ||   \n",
      "\n",
      "============================================================================================================\n"
     ]
    }
   ],
   "source": [
    "for i in range(len(doc.tables)):\n",
    "    table = doc.tables[i]\n",
    "    print(\"table number\" , \"    \" , \"col\" , \"  row\")\n",
    "    print(\"    \",i , \"           \", len(table.columns[0].cells) ,\"   \"  ,len(table.rows[0].cells))\n",
    "    print()\n",
    "    for k in range(len(table.columns[0].cells)):\n",
    "        for j in range(len(table.rows[0].cells)):\n",
    "            print(table.rows[k].cells[j].text , end=\"   ||   \")\n",
    "        print()\n",
    "    print()\n",
    "    print(\"======\"*18)"
   ]
  },
  {
   "cell_type": "code",
   "execution_count": null,
   "id": "98bfa5b9",
   "metadata": {},
   "outputs": [],
   "source": []
  },
  {
   "cell_type": "markdown",
   "id": "1f9b816b",
   "metadata": {},
   "source": [
    "# All Pictures"
   ]
  },
  {
   "cell_type": "code",
   "execution_count": 5,
   "id": "d92f04a3",
   "metadata": {},
   "outputs": [],
   "source": [
    "from docx import Document\n",
    "document = Document(\"input.docx\")\n",
    "\n",
    "with open(\"word.xml\" , \"w\" , encoding=\"utf-8\") as f:\n",
    "    f.write(document._element.xml)"
   ]
  },
  {
   "cell_type": "code",
   "execution_count": 6,
   "id": "e7c234b9",
   "metadata": {},
   "outputs": [
    {
     "name": "stdout",
     "output_type": "stream",
     "text": [
      "\n",
      "            <wp:docPr id=\"1\" name=\"Image2\" descr=\"\"/>\n",
      "\n",
      "===========================================================================\n",
      "\n",
      "            <wp:docPr id=\"2\" name=\"Image1\" descr=\"\"/>\n",
      "\n",
      "===========================================================================\n",
      "\n",
      "            <wp:docPr id=\"3\" name=\"Picture\" descr=\"\"/>\n",
      "\n",
      "===========================================================================\n",
      "number of pictures:  3\n",
      "\n"
     ]
    },
    {
     "data": {
      "text/plain": [
       "['', '', '']"
      ]
     },
     "execution_count": 6,
     "metadata": {},
     "output_type": "execute_result"
    }
   ],
   "source": [
    "l_pics = []\n",
    "with open(\"word.xml\" , \"r\" , encoding=\"utf-8\") as f:\n",
    "    for l in f.readlines():\n",
    "        if \"wp:docPr id\" in l:\n",
    "            l_pics.append(l.split(\"\\\"\")[-2])\n",
    "            print(l.split(\"\\\"\")[-2])\n",
    "            print(l)\n",
    "            print(\"=====\"*15)\n",
    "\n",
    "print(\"number of pictures: \" , len(l_pics))\n",
    "print()\n",
    "l_pics"
   ]
  },
  {
   "cell_type": "code",
   "execution_count": null,
   "id": "cfefa556",
   "metadata": {},
   "outputs": [],
   "source": []
  },
  {
   "cell_type": "code",
   "execution_count": null,
   "id": "1bebf895",
   "metadata": {},
   "outputs": [],
   "source": []
  },
  {
   "cell_type": "code",
   "execution_count": null,
   "id": "94eba406",
   "metadata": {},
   "outputs": [],
   "source": []
  },
  {
   "cell_type": "markdown",
   "id": "d535ad02",
   "metadata": {},
   "source": [
    "# output docx"
   ]
  },
  {
   "cell_type": "code",
   "execution_count": 7,
   "id": "bc15e25f",
   "metadata": {},
   "outputs": [],
   "source": [
    "# create a copy of input.docx\n",
    "doc.save(\"output.docx\")"
   ]
  },
  {
   "cell_type": "code",
   "execution_count": null,
   "id": "0cf4d3ce",
   "metadata": {},
   "outputs": [],
   "source": []
  },
  {
   "cell_type": "code",
   "execution_count": null,
   "id": "50a2c0b3",
   "metadata": {},
   "outputs": [],
   "source": []
  },
  {
   "cell_type": "markdown",
   "id": "edf81be6",
   "metadata": {},
   "source": [
    "### now we will change the tables and pictures of output.docx"
   ]
  },
  {
   "cell_type": "markdown",
   "id": "7ec4bfc5",
   "metadata": {},
   "source": [
    "### change tables"
   ]
  },
  {
   "cell_type": "markdown",
   "id": "5fa07263",
   "metadata": {},
   "source": [
    "#### change first table"
   ]
  },
  {
   "cell_type": "code",
   "execution_count": 8,
   "id": "eb58a8bb",
   "metadata": {},
   "outputs": [
    {
     "data": {
      "text/html": [
       "<div>\n",
       "<style scoped>\n",
       "    .dataframe tbody tr th:only-of-type {\n",
       "        vertical-align: middle;\n",
       "    }\n",
       "\n",
       "    .dataframe tbody tr th {\n",
       "        vertical-align: top;\n",
       "    }\n",
       "\n",
       "    .dataframe thead th {\n",
       "        text-align: right;\n",
       "    }\n",
       "</style>\n",
       "<table border=\"1\" class=\"dataframe\">\n",
       "  <thead>\n",
       "    <tr style=\"text-align: right;\">\n",
       "      <th></th>\n",
       "      <th>number</th>\n",
       "      <th>Lorem ipsum</th>\n",
       "      <th>Lorem ipsum.1</th>\n",
       "      <th>Lorem ipsum.2</th>\n",
       "    </tr>\n",
       "  </thead>\n",
       "  <tbody>\n",
       "    <tr>\n",
       "      <th>0</th>\n",
       "      <td>1</td>\n",
       "      <td>aaaaaaaa</td>\n",
       "      <td>ffffffffffff</td>\n",
       "      <td>lllllllllll</td>\n",
       "    </tr>\n",
       "    <tr>\n",
       "      <th>1</th>\n",
       "      <td>2</td>\n",
       "      <td>bbbbbbbb</td>\n",
       "      <td>ggggggg</td>\n",
       "      <td>mmm</td>\n",
       "    </tr>\n",
       "    <tr>\n",
       "      <th>2</th>\n",
       "      <td>3</td>\n",
       "      <td>ccccccccc</td>\n",
       "      <td>iiiiiiiiiiiiiiii</td>\n",
       "      <td>nnnnn</td>\n",
       "    </tr>\n",
       "    <tr>\n",
       "      <th>3</th>\n",
       "      <td>4</td>\n",
       "      <td>dddddddd</td>\n",
       "      <td>jjjjjjjjjjjjjjjj</td>\n",
       "      <td>ooooo</td>\n",
       "    </tr>\n",
       "    <tr>\n",
       "      <th>4</th>\n",
       "      <td>5</td>\n",
       "      <td>eeeeeeee</td>\n",
       "      <td>kkkkkkk</td>\n",
       "      <td>ppppp</td>\n",
       "    </tr>\n",
       "  </tbody>\n",
       "</table>\n",
       "</div>"
      ],
      "text/plain": [
       "   number Lorem ipsum     Lorem ipsum.1 Lorem ipsum.2\n",
       "0       1    aaaaaaaa      ffffffffffff   lllllllllll\n",
       "1       2    bbbbbbbb           ggggggg           mmm\n",
       "2       3   ccccccccc  iiiiiiiiiiiiiiii         nnnnn\n",
       "3       4    dddddddd  jjjjjjjjjjjjjjjj         ooooo\n",
       "4       5    eeeeeeee           kkkkkkk         ppppp"
      ]
     },
     "execution_count": 8,
     "metadata": {},
     "output_type": "execute_result"
    }
   ],
   "source": [
    "import pandas as pd\n",
    "t0 = pd.read_excel(\"table0.xlsx\")\n",
    "t0"
   ]
  },
  {
   "cell_type": "code",
   "execution_count": 9,
   "id": "b37ed4d0",
   "metadata": {},
   "outputs": [],
   "source": [
    "from docx.table import Table\n",
    "from docx.enum.table import  WD_ALIGN_VERTICAL \n",
    "from docx.enum.text import WD_ALIGN_PARAGRAPH\n",
    "from docx.shared import Pt\n",
    "from docx.text.paragraph import Paragraph\n",
    "\n",
    "\n",
    "table = doc.tables[0]\n",
    "\n",
    "for k in range(1, len(table.columns[0].cells)):\n",
    "    for j in range(1, len(table.rows[0].cells)):\n",
    "        table.rows[k].cells[j].text = str(t0.iloc[k-1,j])\n",
    "#         print(str(t0.iloc[k-1,j]))\n",
    "        p = table.rows[k].cells[j].paragraphs[0]\n",
    "        p.alignment = WD_ALIGN_PARAGRAPH.CENTER\n",
    "        table.cell(k,j).vertical_alignment = WD_ALIGN_VERTICAL.CENTER\n",
    "        paragraph_format = p.paragraph_format\n",
    "#         paragraph_format.line_spacing = Pt(0)\n",
    "#         paragraph_format.space_after = Pt(0)\n"
   ]
  },
  {
   "cell_type": "code",
   "execution_count": null,
   "id": "7c042604",
   "metadata": {},
   "outputs": [],
   "source": []
  },
  {
   "cell_type": "markdown",
   "id": "b66ee2b3",
   "metadata": {},
   "source": [
    "#### change second table"
   ]
  },
  {
   "cell_type": "code",
   "execution_count": 10,
   "id": "62214dd3",
   "metadata": {},
   "outputs": [
    {
     "data": {
      "text/html": [
       "<div>\n",
       "<style scoped>\n",
       "    .dataframe tbody tr th:only-of-type {\n",
       "        vertical-align: middle;\n",
       "    }\n",
       "\n",
       "    .dataframe tbody tr th {\n",
       "        vertical-align: top;\n",
       "    }\n",
       "\n",
       "    .dataframe thead th {\n",
       "        text-align: right;\n",
       "    }\n",
       "</style>\n",
       "<table border=\"1\" class=\"dataframe\">\n",
       "  <thead>\n",
       "    <tr style=\"text-align: right;\">\n",
       "      <th></th>\n",
       "      <th>number</th>\n",
       "      <th>cost</th>\n",
       "    </tr>\n",
       "  </thead>\n",
       "  <tbody>\n",
       "    <tr>\n",
       "      <th>0</th>\n",
       "      <td>1</td>\n",
       "      <td>150.3</td>\n",
       "    </tr>\n",
       "    <tr>\n",
       "      <th>1</th>\n",
       "      <td>2</td>\n",
       "      <td>598.6</td>\n",
       "    </tr>\n",
       "    <tr>\n",
       "      <th>2</th>\n",
       "      <td>3</td>\n",
       "      <td>536.1</td>\n",
       "    </tr>\n",
       "    <tr>\n",
       "      <th>3</th>\n",
       "      <td>4</td>\n",
       "      <td>19.6</td>\n",
       "    </tr>\n",
       "    <tr>\n",
       "      <th>4</th>\n",
       "      <td>5</td>\n",
       "      <td>45.1</td>\n",
       "    </tr>\n",
       "  </tbody>\n",
       "</table>\n",
       "</div>"
      ],
      "text/plain": [
       "   number   cost\n",
       "0       1  150.3\n",
       "1       2  598.6\n",
       "2       3  536.1\n",
       "3       4   19.6\n",
       "4       5   45.1"
      ]
     },
     "execution_count": 10,
     "metadata": {},
     "output_type": "execute_result"
    }
   ],
   "source": [
    "import pandas as pd\n",
    "t1 = pd.read_excel(\"table1.xlsx\")\n",
    "t1"
   ]
  },
  {
   "cell_type": "code",
   "execution_count": 11,
   "id": "1e53ffa9",
   "metadata": {},
   "outputs": [],
   "source": [
    "from docx.table import Table\n",
    "from docx.enum.table import  WD_ALIGN_VERTICAL \n",
    "from docx.enum.text import WD_ALIGN_PARAGRAPH\n",
    "from docx.shared import Pt\n",
    "from docx.text.paragraph import Paragraph\n",
    "\n",
    "\n",
    "table = doc.tables[1]\n",
    "\n",
    "for k in range(1, len(table.columns[0].cells)):\n",
    "    for j in range(1, len(table.rows[0].cells)):\n",
    "        table.rows[k].cells[j].text = str(t1.cost.iloc[k-1])\n",
    "        p = table.rows[k].cells[j].paragraphs[0]\n",
    "        p.alignment = WD_ALIGN_PARAGRAPH.CENTER\n",
    "        table.cell(k,j).vertical_alignment = WD_ALIGN_VERTICAL.CENTER\n",
    "        paragraph_format = p.paragraph_format\n",
    "#         paragraph_format.line_spacing = Pt(0)\n",
    "#         paragraph_format.space_after = Pt(0)\n"
   ]
  },
  {
   "cell_type": "code",
   "execution_count": 12,
   "id": "d2700df5",
   "metadata": {},
   "outputs": [],
   "source": [
    "doc.save(\"output.docx\")\n"
   ]
  },
  {
   "cell_type": "code",
   "execution_count": null,
   "id": "ee1b5463",
   "metadata": {},
   "outputs": [],
   "source": []
  },
  {
   "cell_type": "code",
   "execution_count": null,
   "id": "74a557d2",
   "metadata": {},
   "outputs": [],
   "source": []
  },
  {
   "cell_type": "code",
   "execution_count": null,
   "id": "8f71d80e",
   "metadata": {},
   "outputs": [],
   "source": []
  },
  {
   "cell_type": "code",
   "execution_count": null,
   "id": "105886ed",
   "metadata": {},
   "outputs": [],
   "source": []
  },
  {
   "cell_type": "markdown",
   "id": "6bd922ad",
   "metadata": {},
   "source": [
    "# Change Pictures"
   ]
  },
  {
   "cell_type": "code",
   "execution_count": 13,
   "id": "7f313e28",
   "metadata": {
    "scrolled": false
   },
   "outputs": [
    {
     "name": "stdout",
     "output_type": "stream",
     "text": [
      "            <wp:docPr id=\"1\" name=\"Image2\" descr=\"\"/>\n",
      "\n",
      "===========================================================================\n",
      "            <wp:docPr id=\"2\" name=\"Image1\" descr=\"\"/>\n",
      "\n",
      "===========================================================================\n",
      "            <wp:docPr id=\"3\" name=\"Picture\" descr=\"\"/>\n",
      "\n",
      "===========================================================================\n",
      "number of pictures:  3\n",
      "\n"
     ]
    },
    {
     "data": {
      "text/plain": [
       "['Image2', 'Image1', 'Picture']"
      ]
     },
     "execution_count": 13,
     "metadata": {},
     "output_type": "execute_result"
    }
   ],
   "source": [
    "from docx import Document\n",
    "document = Document(\"input.docx\")\n",
    "\n",
    "with open(\"word.xml\" , \"w\" , encoding=\"utf-8\") as f:\n",
    "    f.write(document._element.xml)\n",
    "l_pics = []\n",
    "with open(\"word.xml\" , \"r\" , encoding=\"utf-8\") as f:\n",
    "    for l in f.readlines():\n",
    "        if \"wp:docPr id\" in l:\n",
    "            l_pics.append(l[l.find('name=\"')+6 : l.find('descr')-2])\n",
    "            print(l)\n",
    "            print(\"=====\"*15)\n",
    "\n",
    "print(\"number of pictures: \" , len(l_pics))\n",
    "print()\n",
    "l_pics"
   ]
  },
  {
   "cell_type": "code",
   "execution_count": null,
   "id": "38539e05",
   "metadata": {},
   "outputs": [],
   "source": []
  },
  {
   "cell_type": "markdown",
   "id": "5197148e",
   "metadata": {},
   "source": [
    "### new pictures directories"
   ]
  },
  {
   "cell_type": "code",
   "execution_count": 14,
   "id": "cf0a4ca5",
   "metadata": {},
   "outputs": [],
   "source": [
    "# these pictures must be in your directory\n",
    "new_pictures = [\"barplot2.png\" , \"laptop_acer1.jpeg\" , \"laptop_acer2.jpeg\"]"
   ]
  },
  {
   "cell_type": "code",
   "execution_count": null,
   "id": "39da073d",
   "metadata": {},
   "outputs": [],
   "source": []
  },
  {
   "cell_type": "code",
   "execution_count": 15,
   "id": "253ea476",
   "metadata": {},
   "outputs": [
    {
     "name": "stdout",
     "output_type": "stream",
     "text": [
      "CPU times: user 101 ms, sys: 8.14 ms, total: 109 ms\n",
      "Wall time: 109 ms\n"
     ]
    }
   ],
   "source": [
    "%%time\n",
    "\n",
    "from docxtpl import DocxTemplate\n",
    "from docx import Document\n",
    "\n",
    "\n",
    "doc = DocxTemplate(\"output.docx\")\n",
    "\n",
    "context = {}\n",
    "for old_pic , new_pic in zip(l_pics , new_pictures):\n",
    "    doc.replace_pic(old_pic , new_pic)\n",
    "    \n",
    "doc.render(context)\n",
    "doc.save(\"output.docx\")"
   ]
  },
  {
   "cell_type": "code",
   "execution_count": null,
   "id": "a4dba842",
   "metadata": {},
   "outputs": [],
   "source": []
  },
  {
   "cell_type": "code",
   "execution_count": null,
   "id": "51f5a5d4",
   "metadata": {},
   "outputs": [],
   "source": []
  },
  {
   "cell_type": "code",
   "execution_count": null,
   "id": "b589e2b6",
   "metadata": {},
   "outputs": [],
   "source": []
  },
  {
   "cell_type": "code",
   "execution_count": null,
   "id": "1d25cd93",
   "metadata": {},
   "outputs": [],
   "source": []
  }
 ],
 "metadata": {
  "kernelspec": {
   "display_name": "Python 3 (ipykernel)",
   "language": "python",
   "name": "python3"
  },
  "language_info": {
   "codemirror_mode": {
    "name": "ipython",
    "version": 3
   },
   "file_extension": ".py",
   "mimetype": "text/x-python",
   "name": "python",
   "nbconvert_exporter": "python",
   "pygments_lexer": "ipython3",
   "version": "3.9.12"
  }
 },
 "nbformat": 4,
 "nbformat_minor": 5
}
